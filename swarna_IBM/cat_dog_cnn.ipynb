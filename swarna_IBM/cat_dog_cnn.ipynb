{
 "cells": [
  {
   "cell_type": "code",
   "execution_count": 1,
   "metadata": {},
   "outputs": [
    {
     "name": "stderr",
     "output_type": "stream",
     "text": [
      "Using TensorFlow backend.\n"
     ]
    }
   ],
   "source": [
    "import keras"
   ]
  },
  {
   "cell_type": "code",
   "execution_count": 2,
   "metadata": {},
   "outputs": [],
   "source": [
    "from keras.models import Sequential\n",
    "from keras.layers import Dense,Conv2D,MaxPooling2D,Flatten"
   ]
  },
  {
   "cell_type": "code",
   "execution_count": 3,
   "metadata": {},
   "outputs": [],
   "source": [
    "model_cnn=Sequential()"
   ]
  },
  {
   "cell_type": "markdown",
   "metadata": {},
   "source": [
    "# Conv layer"
   ]
  },
  {
   "cell_type": "code",
   "execution_count": 4,
   "metadata": {},
   "outputs": [
    {
     "name": "stdout",
     "output_type": "stream",
     "text": [
      "WARNING:tensorflow:From C:\\ProgramData\\Anaconda3\\lib\\site-packages\\tensorflow\\python\\framework\\op_def_library.py:263: colocate_with (from tensorflow.python.framework.ops) is deprecated and will be removed in a future version.\n",
      "Instructions for updating:\n",
      "Colocations handled automatically by placer.\n"
     ]
    },
    {
     "name": "stderr",
     "output_type": "stream",
     "text": [
      "C:\\ProgramData\\Anaconda3\\lib\\site-packages\\ipykernel_launcher.py:1: UserWarning: Update your `Conv2D` call to the Keras 2 API: `Conv2D(32, (3, 3), input_shape=(64, 64, 3..., activation=\"relu\")`\n",
      "  \"\"\"Entry point for launching an IPython kernel.\n"
     ]
    }
   ],
   "source": [
    "model_cnn.add(Conv2D(32,3,3,input_shape=(64,64,3),activation='relu'))"
   ]
  },
  {
   "cell_type": "markdown",
   "metadata": {},
   "source": [
    "# Max Pooling"
   ]
  },
  {
   "cell_type": "code",
   "execution_count": 5,
   "metadata": {},
   "outputs": [],
   "source": [
    "model_cnn.add(MaxPooling2D(pool_size=(2,2)))"
   ]
  },
  {
   "cell_type": "markdown",
   "metadata": {},
   "source": [
    "# Flatten layer"
   ]
  },
  {
   "cell_type": "code",
   "execution_count": 6,
   "metadata": {},
   "outputs": [],
   "source": [
    "model_cnn.add(Flatten())"
   ]
  },
  {
   "cell_type": "markdown",
   "metadata": {},
   "source": [
    "# Hidden layer"
   ]
  },
  {
   "cell_type": "code",
   "execution_count": 7,
   "metadata": {},
   "outputs": [],
   "source": [
    "model_cnn.add(Dense(100,activation='relu'))"
   ]
  },
  {
   "cell_type": "markdown",
   "metadata": {},
   "source": [
    "# Output layer"
   ]
  },
  {
   "cell_type": "code",
   "execution_count": 8,
   "metadata": {},
   "outputs": [],
   "source": [
    "model_cnn.add(Dense(1,activation='sigmoid'))"
   ]
  },
  {
   "cell_type": "markdown",
   "metadata": {},
   "source": [
    "# compiler"
   ]
  },
  {
   "cell_type": "code",
   "execution_count": 9,
   "metadata": {},
   "outputs": [],
   "source": [
    "model_cnn.compile(optimizer='adam',loss='binary_crossentropy',metrics=['accuracy'])"
   ]
  },
  {
   "cell_type": "markdown",
   "metadata": {},
   "source": [
    "# get images"
   ]
  },
  {
   "cell_type": "code",
   "execution_count": 10,
   "metadata": {},
   "outputs": [],
   "source": [
    "from keras. preprocessing.image import ImageDataGenerator\n",
    "train_datagen=ImageDataGenerator(rescale=1./255,shear_range=0.2,zoom_range=0.2,horizontal_flip=True)\n",
    "test_datagen=ImageDataGenerator(rescale=1./255)"
   ]
  },
  {
   "cell_type": "code",
   "execution_count": 11,
   "metadata": {},
   "outputs": [
    {
     "name": "stdout",
     "output_type": "stream",
     "text": [
      "Found 8000 images belonging to 2 classes.\n"
     ]
    }
   ],
   "source": [
    "x_train=train_datagen.flow_from_directory(r\"C:\\Users\\hp\\Downloads\\dataset\\training_set\",target_size=(64,64),batch_size=32,class_mode='binary')"
   ]
  },
  {
   "cell_type": "code",
   "execution_count": 12,
   "metadata": {},
   "outputs": [
    {
     "name": "stdout",
     "output_type": "stream",
     "text": [
      "Found 2000 images belonging to 2 classes.\n"
     ]
    }
   ],
   "source": [
    "x_test=test_datagen.flow_from_directory(r\"C:\\Users\\hp\\Downloads\\dataset\\test_set\",target_size=(64,64),batch_size=32,class_mode='binary')"
   ]
  },
  {
   "cell_type": "code",
   "execution_count": 13,
   "metadata": {},
   "outputs": [
    {
     "name": "stdout",
     "output_type": "stream",
     "text": [
      "{'cats': 0, 'dogs': 1}\n"
     ]
    }
   ],
   "source": [
    "print(x_train.class_indices)"
   ]
  },
  {
   "cell_type": "code",
   "execution_count": 14,
   "metadata": {},
   "outputs": [
    {
     "name": "stdout",
     "output_type": "stream",
     "text": [
      "WARNING:tensorflow:From C:\\ProgramData\\Anaconda3\\lib\\site-packages\\tensorflow\\python\\ops\\math_ops.py:3066: to_int32 (from tensorflow.python.ops.math_ops) is deprecated and will be removed in a future version.\n",
      "Instructions for updating:\n",
      "Use tf.cast instead.\n"
     ]
    },
    {
     "name": "stderr",
     "output_type": "stream",
     "text": [
      "C:\\ProgramData\\Anaconda3\\lib\\site-packages\\ipykernel_launcher.py:1: UserWarning: The semantics of the Keras 2 argument `steps_per_epoch` is not the same as the Keras 1 argument `samples_per_epoch`. `steps_per_epoch` is the number of batches to draw from the generator at each epoch. Basically steps_per_epoch = samples_per_epoch/batch_size. Similarly `nb_val_samples`->`validation_steps` and `val_samples`->`steps` arguments have changed. Update your method calls accordingly.\n",
      "  \"\"\"Entry point for launching an IPython kernel.\n",
      "C:\\ProgramData\\Anaconda3\\lib\\site-packages\\ipykernel_launcher.py:1: UserWarning: Update your `fit_generator` call to the Keras 2 API: `fit_generator(<keras_pre..., epochs=25, validation_data=<keras_pre..., steps_per_epoch=250, validation_steps=200)`\n",
      "  \"\"\"Entry point for launching an IPython kernel.\n"
     ]
    },
    {
     "name": "stdout",
     "output_type": "stream",
     "text": [
      "Epoch 1/25\n",
      "250/250 [==============================] - 321s 1s/step - loss: 0.6781 - acc: 0.6174 - val_loss: 0.6271 - val_acc: 0.6541\n",
      "Epoch 2/25\n",
      "250/250 [==============================] - 132s 527ms/step - loss: 0.5844 - acc: 0.6935 - val_loss: 0.5439 - val_acc: 0.7357\n",
      "Epoch 3/25\n",
      "250/250 [==============================] - 3640s 15s/step - loss: 0.5564 - acc: 0.7123 - val_loss: 0.5897 - val_acc: 0.6903\n",
      "Epoch 4/25\n",
      "250/250 [==============================] - 132s 527ms/step - loss: 0.5489 - acc: 0.7198 - val_loss: 0.5302 - val_acc: 0.7338\n",
      "Epoch 5/25\n",
      "250/250 [==============================] - 133s 534ms/step - loss: 0.5307 - acc: 0.7320 - val_loss: 0.5961 - val_acc: 0.6832\n",
      "Epoch 6/25\n",
      "250/250 [==============================] - 131s 525ms/step - loss: 0.5150 - acc: 0.7421 - val_loss: 0.5103 - val_acc: 0.7446\n",
      "Epoch 7/25\n",
      "250/250 [==============================] - 132s 526ms/step - loss: 0.5000 - acc: 0.7470 - val_loss: 0.5844 - val_acc: 0.7294\n",
      "Epoch 8/25\n",
      "250/250 [==============================] - 132s 528ms/step - loss: 0.4951 - acc: 0.7558 - val_loss: 0.5073 - val_acc: 0.7538\n",
      "Epoch 9/25\n",
      "250/250 [==============================] - 132s 529ms/step - loss: 0.4840 - acc: 0.7630 - val_loss: 0.5276 - val_acc: 0.7487\n",
      "Epoch 10/25\n",
      "250/250 [==============================] - 132s 528ms/step - loss: 0.4711 - acc: 0.7732 - val_loss: 0.5864 - val_acc: 0.7292\n",
      "Epoch 11/25\n",
      "250/250 [==============================] - 132s 528ms/step - loss: 0.4670 - acc: 0.7726 - val_loss: 0.5370 - val_acc: 0.7418\n",
      "Epoch 12/25\n",
      "250/250 [==============================] - 134s 537ms/step - loss: 0.4571 - acc: 0.7829 - val_loss: 0.4972 - val_acc: 0.7663\n",
      "Epoch 13/25\n",
      "250/250 [==============================] - 136s 543ms/step - loss: 0.4366 - acc: 0.7944 - val_loss: 0.5065 - val_acc: 0.7741\n",
      "Epoch 14/25\n",
      "250/250 [==============================] - 134s 538ms/step - loss: 0.4358 - acc: 0.7994 - val_loss: 0.5343 - val_acc: 0.7554\n",
      "Epoch 15/25\n",
      "250/250 [==============================] - 134s 536ms/step - loss: 0.4187 - acc: 0.8057 - val_loss: 0.5251 - val_acc: 0.7635\n",
      "Epoch 16/25\n",
      "250/250 [==============================] - 140s 559ms/step - loss: 0.4107 - acc: 0.8108 - val_loss: 0.5477 - val_acc: 0.7678\n",
      "Epoch 17/25\n",
      "250/250 [==============================] - 269s 1s/step - loss: 0.4131 - acc: 0.8103 - val_loss: 0.5715 - val_acc: 0.7396\n",
      "Epoch 18/25\n",
      "250/250 [==============================] - 139s 557ms/step - loss: 0.3901 - acc: 0.8166 - val_loss: 0.5562 - val_acc: 0.7599\n",
      "Epoch 19/25\n",
      "250/250 [==============================] - 133s 531ms/step - loss: 0.3833 - acc: 0.8276 - val_loss: 0.5216 - val_acc: 0.7757\n",
      "Epoch 20/25\n",
      "250/250 [==============================] - 133s 532ms/step - loss: 0.3785 - acc: 0.8316 - val_loss: 0.5605 - val_acc: 0.7528\n",
      "Epoch 21/25\n",
      "250/250 [==============================] - 133s 532ms/step - loss: 0.3710 - acc: 0.8337 - val_loss: 0.6043 - val_acc: 0.7434\n",
      "Epoch 22/25\n",
      "250/250 [==============================] - 132s 529ms/step - loss: 0.3624 - acc: 0.8382 - val_loss: 0.5353 - val_acc: 0.7769\n",
      "Epoch 23/25\n",
      "250/250 [==============================] - 133s 532ms/step - loss: 0.3538 - acc: 0.8429 - val_loss: 0.6083 - val_acc: 0.7449\n",
      "Epoch 24/25\n",
      "250/250 [==============================] - 133s 531ms/step - loss: 0.3538 - acc: 0.8465 - val_loss: 0.5840 - val_acc: 0.7541\n",
      "Epoch 25/25\n",
      "250/250 [==============================] - 133s 532ms/step - loss: 0.3286 - acc: 0.8543 - val_loss: 0.5928 - val_acc: 0.7694\n"
     ]
    },
    {
     "data": {
      "text/plain": [
       "<keras.callbacks.History at 0x1c3df15dc88>"
      ]
     },
     "execution_count": 14,
     "metadata": {},
     "output_type": "execute_result"
    }
   ],
   "source": [
    "model_cnn.fit_generator(x_train,samples_per_epoch=8000,epochs=25,validation_data=x_test,nb_val_samples=200)"
   ]
  },
  {
   "cell_type": "code",
   "execution_count": null,
   "metadata": {},
   "outputs": [],
   "source": []
  }
 ],
 "metadata": {
  "kernelspec": {
   "display_name": "Python 3",
   "language": "python",
   "name": "python3"
  },
  "language_info": {
   "codemirror_mode": {
    "name": "ipython",
    "version": 3
   },
   "file_extension": ".py",
   "mimetype": "text/x-python",
   "name": "python",
   "nbconvert_exporter": "python",
   "pygments_lexer": "ipython3",
   "version": "3.7.3"
  }
 },
 "nbformat": 4,
 "nbformat_minor": 2
}
